{
 "cells": [
  {
   "cell_type": "code",
   "execution_count": 40,
   "metadata": {},
   "outputs": [],
   "source": [
    "from sklearn import datasets\n",
    "from sklearn.metrics import accuracy_score\n",
    "from sklearn.neighbors import KNeighborsClassifier\n",
    "from sklearn.model_selection import train_test_split\n",
    "from IPython.display import display,HTML"
   ]
  },
  {
   "cell_type": "code",
   "execution_count": 3,
   "metadata": {},
   "outputs": [],
   "source": [
    "iris = datasets.load_iris()"
   ]
  },
  {
   "cell_type": "code",
   "execution_count": 5,
   "metadata": {},
   "outputs": [
    {
     "data": {
      "text/plain": [
       "array(['setosa', 'versicolor', 'virginica'], dtype='<U10')"
      ]
     },
     "execution_count": 5,
     "metadata": {},
     "output_type": "execute_result"
    }
   ],
   "source": [
    "iris.target_names"
   ]
  },
  {
   "cell_type": "code",
   "execution_count": 17,
   "metadata": {},
   "outputs": [],
   "source": [
    "X = iris.data\n",
    "y = iris.target"
   ]
  },
  {
   "cell_type": "code",
   "execution_count": 9,
   "metadata": {},
   "outputs": [],
   "source": [
    "classes = ['setosa', 'versicolor', 'virginica']"
   ]
  },
  {
   "cell_type": "code",
   "execution_count": 30,
   "metadata": {},
   "outputs": [],
   "source": [
    "x_train, x_test ,y_train, y_test =train_test_split(X,y, test_size = 0.2)  "
   ]
  },
  {
   "cell_type": "code",
   "execution_count": 31,
   "metadata": {},
   "outputs": [],
   "source": [
    "knn = KNeighborsClassifier()"
   ]
  },
  {
   "cell_type": "code",
   "execution_count": 32,
   "metadata": {},
   "outputs": [
    {
     "data": {
      "text/plain": [
       "KNeighborsClassifier()"
      ]
     },
     "execution_count": 32,
     "metadata": {},
     "output_type": "execute_result"
    }
   ],
   "source": [
    "knn.fit(x_train,y_train)"
   ]
  },
  {
   "cell_type": "code",
   "execution_count": 33,
   "metadata": {},
   "outputs": [
    {
     "data": {
      "text/plain": [
       "array([1, 2, 2, 0, 2, 0, 2, 1, 0, 0, 1, 0, 2, 2, 1, 0, 2, 2, 2, 0, 2, 2,\n",
       "       0, 1, 1, 1, 1, 2, 1, 2])"
      ]
     },
     "execution_count": 33,
     "metadata": {},
     "output_type": "execute_result"
    }
   ],
   "source": [
    "prediction = knn.predict(x_test)\n",
    "prediction"
   ]
  },
  {
   "cell_type": "code",
   "execution_count": 34,
   "metadata": {},
   "outputs": [
    {
     "data": {
      "text/plain": [
       "array([1, 2, 2, 0, 2, 0, 2, 1, 0, 0, 1, 0, 2, 2, 1, 0, 2, 2, 2, 0, 2, 2,\n",
       "       0, 1, 1, 2, 1, 2, 1, 2])"
      ]
     },
     "execution_count": 34,
     "metadata": {},
     "output_type": "execute_result"
    }
   ],
   "source": [
    "y_test"
   ]
  },
  {
   "cell_type": "code",
   "execution_count": 43,
   "metadata": {},
   "outputs": [
    {
     "name": "stdout",
     "output_type": "stream",
     "text": [
      "0.9666666666666667\n"
     ]
    }
   ],
   "source": [
    "acc = accuracy_score(prediction,y_test)\n",
    "print(acc)"
   ]
  },
  {
   "cell_type": "code",
   "execution_count": 36,
   "metadata": {},
   "outputs": [
    {
     "data": {
      "text/html": [
       "<table><tr><td><h3>Predicted Value<h3></td> <td><h3>Actual Value<h3></td></tr><tr><td>versicolor</td><td>versicolor</td></tr><tr><td>virginica</td><td>virginica</td></tr><tr><td>virginica</td><td>virginica</td></tr><tr><td>setosa</td><td>setosa</td></tr><tr><td>virginica</td><td>virginica</td></tr><tr><td>setosa</td><td>setosa</td></tr><tr><td>virginica</td><td>virginica</td></tr><tr><td>versicolor</td><td>versicolor</td></tr><tr><td>setosa</td><td>setosa</td></tr><tr><td>setosa</td><td>setosa</td></tr><tr><td>versicolor</td><td>versicolor</td></tr><tr><td>setosa</td><td>setosa</td></tr><tr><td>virginica</td><td>virginica</td></tr><tr><td>virginica</td><td>virginica</td></tr><tr><td>versicolor</td><td>versicolor</td></tr><tr><td>setosa</td><td>setosa</td></tr><tr><td>virginica</td><td>virginica</td></tr><tr><td>virginica</td><td>virginica</td></tr><tr><td>virginica</td><td>virginica</td></tr><tr><td>setosa</td><td>setosa</td></tr><tr><td>virginica</td><td>virginica</td></tr><tr><td>virginica</td><td>virginica</td></tr><tr><td>setosa</td><td>setosa</td></tr><tr><td>versicolor</td><td>versicolor</td></tr><tr><td>versicolor</td><td>versicolor</td></tr><tr><td>versicolor</td><td>virginica</td></tr><tr><td>versicolor</td><td>versicolor</td></tr><tr><td>virginica</td><td>virginica</td></tr><tr><td>versicolor</td><td>versicolor</td></tr><tr><td>virginica</td><td>virginica</td></tr></table>"
      ],
      "text/plain": [
       "<IPython.core.display.HTML object>"
      ]
     },
     "metadata": {},
     "output_type": "display_data"
    }
   ],
   "source": [
    "html =\"<table>\"\n",
    "html +=\"<tr> <td><h3>Predicted Value<h3></td> <td><h3>Actual Value<h3></td> </tr>\"\n",
    "for i in range(len(prediction)):\n",
    "    html+=\"<tr>\"\n",
    "    html+=\"<td>%s</td>\"%(classes[prediction[i]])\n",
    "    html+=\"<td>%s</td>\"%(classes[y_test[i]])\n",
    "    html+=\"</tr>\"\n",
    "html+=\"</table>\"\n",
    "\n",
    "display(HTML(html))"
   ]
  }
 ],
 "metadata": {
  "kernelspec": {
   "display_name": "Python 3",
   "language": "python",
   "name": "python3"
  },
  "language_info": {
   "codemirror_mode": {
    "name": "ipython",
    "version": 3
   },
   "file_extension": ".py",
   "mimetype": "text/x-python",
   "name": "python",
   "nbconvert_exporter": "python",
   "pygments_lexer": "ipython3",
   "version": "3.8.0"
  }
 },
 "nbformat": 4,
 "nbformat_minor": 4
}
